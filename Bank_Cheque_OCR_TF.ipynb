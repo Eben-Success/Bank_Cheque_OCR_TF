{
 "cells": [
  {
   "cell_type": "markdown",
   "metadata": {
    "id": "G35aG8kHadhF"
   },
   "source": [
    "# **Setup Paths**"
   ]
  },
  {
   "cell_type": "code",
   "execution_count": 1,
   "metadata": {
    "colab": {
     "base_uri": "https://localhost:8080/"
    },
    "executionInfo": {
     "elapsed": 3391,
     "status": "ok",
     "timestamp": 1665905288095,
     "user": {
      "displayName": "Silas Penda",
      "userId": "17335070655241835621"
     },
     "user_tz": -60
    },
    "id": "8caq3K-SFhei",
    "outputId": "479b9902-c0d4-42c6-923a-c1f93f758bd3"
   },
   "outputs": [],
   "source": [
    "# This mounts your drive to Colab\n",
    "# from google.colab import drive\n",
    "# drive.mount('/content/drive')"
   ]
  },
  {
   "cell_type": "code",
   "execution_count": 2,
   "metadata": {},
   "outputs": [],
   "source": [
    "# import os\n",
    "# working_directory = os.getcwd()\n",
    "# print(working_directory)"
   ]
  },
  {
   "cell_type": "code",
   "execution_count": 3,
   "metadata": {},
   "outputs": [],
   "source": [
    "# path = working_directory + '/test/'"
   ]
  },
  {
   "cell_type": "code",
   "execution_count": 4,
   "metadata": {
    "colab": {
     "base_uri": "https://localhost:8080/"
    },
    "executionInfo": {
     "elapsed": 8,
     "status": "ok",
     "timestamp": 1665905289624,
     "user": {
      "displayName": "Silas Penda",
      "userId": "17335070655241835621"
     },
     "user_tz": -60
    },
    "id": "SrFbrjXcne5I",
    "outputId": "d119201f-c146-4a7b-fb4a-bc0da7cec20f"
   },
   "outputs": [],
   "source": [
    "# This makes sure all the coding and editing is done in the drive\n",
    "# %cd /content/drive/MyDrive/Bank_Cheque_OCR/Bank_Cheque_OCR_TFOD"
   ]
  },
  {
   "cell_type": "code",
   "execution_count": 5,
   "metadata": {
    "executionInfo": {
     "elapsed": 6,
     "status": "ok",
     "timestamp": 1665905290198,
     "user": {
      "displayName": "Silas Penda",
      "userId": "17335070655241835621"
     },
     "user_tz": -60
    },
    "id": "cmoMGrHyoKbc"
   },
   "outputs": [],
   "source": [
    "import os"
   ]
  },
  {
   "cell_type": "code",
   "execution_count": 6,
   "metadata": {
    "executionInfo": {
     "elapsed": 4,
     "status": "ok",
     "timestamp": 1665905291807,
     "user": {
      "displayName": "Silas Penda",
      "userId": "17335070655241835621"
     },
     "user_tz": -60
    },
    "id": "VybgH7HU0nVj"
   },
   "outputs": [],
   "source": [
    "CUSTOM_MODEL_NAME = 'my_ssd_mobnet' \n",
    "PRETRAINED_MODEL_NAME = 'ssd_mobilenet_v2_fpnlite_320x320_coco17_tpu-8'\n",
    "PRETRAINED_MODEL_URL = 'http://download.tensorflow.org/models/object_detection/tf2/20200711/ssd_mobilenet_v2_fpnlite_320x320_coco17_tpu-8.tar.gz'\n",
    "TF_RECORD_SCRIPT_NAME = 'generate_tfrecord.py'\n",
    "LABEL_MAP_NAME = 'label_map.pbtxt'"
   ]
  },
  {
   "cell_type": "code",
   "execution_count": 7,
   "metadata": {
    "executionInfo": {
     "elapsed": 6,
     "status": "ok",
     "timestamp": 1665905292186,
     "user": {
      "displayName": "Silas Penda",
      "userId": "17335070655241835621"
     },
     "user_tz": -60
    },
    "id": "nEpbnjWP05Y0"
   },
   "outputs": [],
   "source": [
    "paths = {\n",
    "    'WORKSPACE_PATH': os.path.join('Tensorflow', 'workspace'),\n",
    "    'SCRIPTS_PATH': os.path.join('Tensorflow','scripts'),\n",
    "    'APIMODEL_PATH': os.path.join('Tensorflow','models'),\n",
    "    'ANNOTATION_PATH': os.path.join('Tensorflow', 'workspace','annotations'),\n",
    "    'IMAGE_PATH': os.path.join('Tensorflow', 'workspace','images'),\n",
    "    'MODEL_PATH': os.path.join('Tensorflow', 'workspace','models'),\n",
    "    'PRETRAINED_MODEL_PATH': os.path.join('Tensorflow', 'workspace','pre-trained-models'),\n",
    "    'CHECKPOINT_PATH': os.path.join('Tensorflow', 'workspace','models',CUSTOM_MODEL_NAME), \n",
    "    'OUTPUT_PATH': os.path.join('Tensorflow', 'workspace','models',CUSTOM_MODEL_NAME, 'export'), \n",
    "    'TFJS_PATH':os.path.join('Tensorflow', 'workspace','models',CUSTOM_MODEL_NAME, 'tfjsexport'), \n",
    "    'TFLITE_PATH':os.path.join('Tensorflow', 'workspace','models',CUSTOM_MODEL_NAME, 'tfliteexport'), \n",
    "    'PROTOC_PATH':os.path.join('Tensorflow','protoc')\n",
    "}"
   ]
  },
  {
   "cell_type": "code",
   "execution_count": 8,
   "metadata": {
    "executionInfo": {
     "elapsed": 6,
     "status": "ok",
     "timestamp": 1665905292701,
     "user": {
      "displayName": "Silas Penda",
      "userId": "17335070655241835621"
     },
     "user_tz": -60
    },
    "id": "vCoulZ65aBGA"
   },
   "outputs": [],
   "source": [
    "files = {\n",
    "    'PIPELINE_CONFIG':os.path.join('Tensorflow', 'workspace','models', CUSTOM_MODEL_NAME, 'pipeline.config'),\n",
    "    'TF_RECORD_SCRIPT': os.path.join(paths['SCRIPTS_PATH'], TF_RECORD_SCRIPT_NAME), \n",
    "    'LABELMAP': os.path.join(paths['ANNOTATION_PATH'], LABEL_MAP_NAME)\n",
    "}"
   ]
  },
  {
   "cell_type": "code",
   "execution_count": 9,
   "metadata": {
    "executionInfo": {
     "elapsed": 5,
     "status": "ok",
     "timestamp": 1665905293166,
     "user": {
      "displayName": "Silas Penda",
      "userId": "17335070655241835621"
     },
     "user_tz": -60
    },
    "id": "wbkDx1ALaHGU"
   },
   "outputs": [],
   "source": [
    "for path in paths.values():\n",
    "    if not os.path.exists(path):\n",
    "          !mkdir -p {path}"
   ]
  },
  {
   "cell_type": "markdown",
   "metadata": {
    "id": "qnZ5S6esaaVs"
   },
   "source": [
    "# **Download Tensorflow Pretrained Models From Tensorflow Model Zoo And Install Tensorflow Object Detection**"
   ]
  },
  {
   "cell_type": "code",
   "execution_count": 10,
   "metadata": {
    "colab": {
     "base_uri": "https://localhost:8080/"
    },
    "executionInfo": {
     "elapsed": 78137,
     "status": "ok",
     "timestamp": 1665904995821,
     "user": {
      "displayName": "Silas Penda",
      "userId": "17335070655241835621"
     },
     "user_tz": -60
    },
    "id": "qNEgfHiRa4Lc",
    "outputId": "c3577e60-f191-4cef-e005-c8e01a489b22"
   },
   "outputs": [],
   "source": [
    "if not os.path.exists(os.path.join(paths['APIMODEL_PATH'], 'research', 'object_detection')):\n",
    "    !git clone https://github.com/tensorflow/models {paths['APIMODEL_PATH']}"
   ]
  },
  {
   "cell_type": "code",
   "execution_count": 11,
   "metadata": {},
   "outputs": [
    {
     "name": "stdout",
     "output_type": "stream",
     "text": [
      "Requirement already satisfied: pip in /home/eben-success/anaconda3/lib/python3.9/site-packages (22.3)\n"
     ]
    }
   ],
   "source": [
    "!pip3 install --upgrade pip"
   ]
  },
  {
   "cell_type": "raw",
   "metadata": {},
   "source": []
  },
  {
   "cell_type": "code",
   "execution_count": 12,
   "metadata": {
    "colab": {
     "base_uri": "https://localhost:8080/"
    },
    "executionInfo": {
     "elapsed": 126594,
     "status": "ok",
     "timestamp": 1665905129255,
     "user": {
      "displayName": "Silas Penda",
      "userId": "17335070655241835621"
     },
     "user_tz": -60
    },
    "id": "ui8z2sKbbBJn",
    "outputId": "d67c8241-8e76-4e5e-f8fa-0a214615c6b2"
   },
   "outputs": [
    {
     "name": "stdout",
     "output_type": "stream",
     "text": [
      "E: Could not open lock file /var/lib/dpkg/lock-frontend - open (13: Permission denied)\n",
      "E: Unable to acquire the dpkg frontend lock (/var/lib/dpkg/lock-frontend), are you root?\n",
      "Processing /home/eben-success/Desktop/Fintech/Tensorflow/models/research\n",
      "  Preparing metadata (setup.py) ... \u001b[?25ldone\n",
      "\u001b[?25hRequirement already satisfied: avro-python3 in /home/eben-success/anaconda3/lib/python3.9/site-packages (from object-detection==0.1) (1.10.2)\n",
      "Requirement already satisfied: apache-beam in /home/eben-success/anaconda3/lib/python3.9/site-packages (from object-detection==0.1) (2.42.0)\n",
      "Requirement already satisfied: pillow in /home/eben-success/anaconda3/lib/python3.9/site-packages (from object-detection==0.1) (9.0.1)\n",
      "Requirement already satisfied: lxml in /home/eben-success/anaconda3/lib/python3.9/site-packages (from object-detection==0.1) (4.8.0)\n",
      "Requirement already satisfied: matplotlib in /home/eben-success/anaconda3/lib/python3.9/site-packages (from object-detection==0.1) (3.5.1)\n",
      "Requirement already satisfied: Cython in /home/eben-success/anaconda3/lib/python3.9/site-packages (from object-detection==0.1) (0.29.28)\n",
      "Requirement already satisfied: contextlib2 in /home/eben-success/anaconda3/lib/python3.9/site-packages (from object-detection==0.1) (21.6.0)\n",
      "Requirement already satisfied: tf-slim in /home/eben-success/anaconda3/lib/python3.9/site-packages (from object-detection==0.1) (1.1.0)\n",
      "Requirement already satisfied: six in /home/eben-success/anaconda3/lib/python3.9/site-packages (from object-detection==0.1) (1.16.0)\n",
      "Requirement already satisfied: pycocotools in /home/eben-success/anaconda3/lib/python3.9/site-packages (from object-detection==0.1) (2.0.5)\n",
      "Requirement already satisfied: lvis in /home/eben-success/anaconda3/lib/python3.9/site-packages (from object-detection==0.1) (0.5.3)\n",
      "Requirement already satisfied: scipy in /home/eben-success/anaconda3/lib/python3.9/site-packages (from object-detection==0.1) (1.7.3)\n",
      "Requirement already satisfied: pandas in /home/eben-success/anaconda3/lib/python3.9/site-packages (from object-detection==0.1) (1.4.2)\n",
      "Requirement already satisfied: tf-models-official>=2.5.1 in /home/eben-success/anaconda3/lib/python3.9/site-packages (from object-detection==0.1) (2.10.0)\n",
      "Requirement already satisfied: tensorflow_io in /home/eben-success/anaconda3/lib/python3.9/site-packages (from object-detection==0.1) (0.27.0)\n",
      "Requirement already satisfied: keras in /home/eben-success/anaconda3/lib/python3.9/site-packages (from object-detection==0.1) (2.10.0)\n",
      "Requirement already satisfied: pyparsing==2.4.7 in /home/eben-success/anaconda3/lib/python3.9/site-packages (from object-detection==0.1) (2.4.7)\n",
      "Requirement already satisfied: sacrebleu<=2.2.0 in /home/eben-success/anaconda3/lib/python3.9/site-packages (from object-detection==0.1) (2.2.0)\n",
      "Requirement already satisfied: tabulate>=0.8.9 in /home/eben-success/anaconda3/lib/python3.9/site-packages (from sacrebleu<=2.2.0->object-detection==0.1) (0.8.9)\n",
      "Requirement already satisfied: colorama in /home/eben-success/anaconda3/lib/python3.9/site-packages (from sacrebleu<=2.2.0->object-detection==0.1) (0.4.4)\n",
      "Requirement already satisfied: numpy>=1.17 in /home/eben-success/anaconda3/lib/python3.9/site-packages (from sacrebleu<=2.2.0->object-detection==0.1) (1.21.5)\n",
      "Requirement already satisfied: portalocker in /home/eben-success/anaconda3/lib/python3.9/site-packages (from sacrebleu<=2.2.0->object-detection==0.1) (2.5.1)\n",
      "Requirement already satisfied: regex in /home/eben-success/anaconda3/lib/python3.9/site-packages (from sacrebleu<=2.2.0->object-detection==0.1) (2022.3.15)\n",
      "Requirement already satisfied: google-api-python-client>=1.6.7 in /home/eben-success/anaconda3/lib/python3.9/site-packages (from tf-models-official>=2.5.1->object-detection==0.1) (2.64.0)\n",
      "Requirement already satisfied: immutabledict in /home/eben-success/anaconda3/lib/python3.9/site-packages (from tf-models-official>=2.5.1->object-detection==0.1) (2.2.1)\n",
      "Requirement already satisfied: opencv-python-headless==4.5.2.52 in /home/eben-success/anaconda3/lib/python3.9/site-packages (from tf-models-official>=2.5.1->object-detection==0.1) (4.5.2.52)\n",
      "Requirement already satisfied: sentencepiece in /home/eben-success/anaconda3/lib/python3.9/site-packages (from tf-models-official>=2.5.1->object-detection==0.1) (0.1.97)\n",
      "Requirement already satisfied: oauth2client in /home/eben-success/anaconda3/lib/python3.9/site-packages (from tf-models-official>=2.5.1->object-detection==0.1) (4.1.3)\n",
      "Requirement already satisfied: kaggle>=1.3.9 in /home/eben-success/anaconda3/lib/python3.9/site-packages (from tf-models-official>=2.5.1->object-detection==0.1) (1.5.12)\n",
      "Requirement already satisfied: tensorflow-datasets in /home/eben-success/anaconda3/lib/python3.9/site-packages (from tf-models-official>=2.5.1->object-detection==0.1) (4.7.0)\n",
      "Requirement already satisfied: psutil>=5.4.3 in /home/eben-success/anaconda3/lib/python3.9/site-packages (from tf-models-official>=2.5.1->object-detection==0.1) (5.8.0)\n",
      "Requirement already satisfied: tensorflow-addons in /home/eben-success/anaconda3/lib/python3.9/site-packages (from tf-models-official>=2.5.1->object-detection==0.1) (0.18.0)\n",
      "Requirement already satisfied: tensorflow~=2.10.0 in /home/eben-success/anaconda3/lib/python3.9/site-packages (from tf-models-official>=2.5.1->object-detection==0.1) (2.10.0)\n",
      "Requirement already satisfied: tensorflow-text~=2.10.0 in /home/eben-success/anaconda3/lib/python3.9/site-packages (from tf-models-official>=2.5.1->object-detection==0.1) (2.10.0)\n",
      "Requirement already satisfied: pyyaml<6.0,>=5.1 in /home/eben-success/anaconda3/lib/python3.9/site-packages (from tf-models-official>=2.5.1->object-detection==0.1) (5.4.1)\n",
      "Requirement already satisfied: seqeval in /home/eben-success/anaconda3/lib/python3.9/site-packages (from tf-models-official>=2.5.1->object-detection==0.1) (1.2.2)\n",
      "Requirement already satisfied: py-cpuinfo>=3.3.0 in /home/eben-success/anaconda3/lib/python3.9/site-packages (from tf-models-official>=2.5.1->object-detection==0.1) (8.0.0)\n",
      "Requirement already satisfied: tensorflow-model-optimization>=0.4.1 in /home/eben-success/anaconda3/lib/python3.9/site-packages (from tf-models-official>=2.5.1->object-detection==0.1) (0.7.3)\n",
      "Requirement already satisfied: gin-config in /home/eben-success/anaconda3/lib/python3.9/site-packages (from tf-models-official>=2.5.1->object-detection==0.1) (0.5.0)\n",
      "Requirement already satisfied: tensorflow-hub>=0.6.0 in /home/eben-success/anaconda3/lib/python3.9/site-packages (from tf-models-official>=2.5.1->object-detection==0.1) (0.12.0)\n",
      "Requirement already satisfied: python-dateutil>=2.8.1 in /home/eben-success/anaconda3/lib/python3.9/site-packages (from pandas->object-detection==0.1) (2.8.2)\n",
      "Requirement already satisfied: pytz>=2020.1 in /home/eben-success/anaconda3/lib/python3.9/site-packages (from pandas->object-detection==0.1) (2021.3)\n",
      "Requirement already satisfied: absl-py>=0.2.2 in /home/eben-success/anaconda3/lib/python3.9/site-packages (from tf-slim->object-detection==0.1) (1.3.0)\n",
      "Requirement already satisfied: pymongo<4.0.0,>=3.8.0 in /home/eben-success/anaconda3/lib/python3.9/site-packages (from apache-beam->object-detection==0.1) (3.12.3)\n",
      "Requirement already satisfied: fastavro<2,>=0.23.6 in /home/eben-success/anaconda3/lib/python3.9/site-packages (from apache-beam->object-detection==0.1) (1.6.1)\n",
      "Requirement already satisfied: typing-extensions>=3.7.0 in /home/eben-success/anaconda3/lib/python3.9/site-packages (from apache-beam->object-detection==0.1) (4.1.1)\n",
      "Requirement already satisfied: requests<3.0.0,>=2.24.0 in /home/eben-success/anaconda3/lib/python3.9/site-packages (from apache-beam->object-detection==0.1) (2.27.1)\n",
      "Requirement already satisfied: hdfs<3.0.0,>=2.1.0 in /home/eben-success/anaconda3/lib/python3.9/site-packages (from apache-beam->object-detection==0.1) (2.7.0)\n",
      "Requirement already satisfied: orjson<4.0 in /home/eben-success/anaconda3/lib/python3.9/site-packages (from apache-beam->object-detection==0.1) (3.8.0)\n",
      "Requirement already satisfied: cloudpickle~=2.1.0 in /home/eben-success/anaconda3/lib/python3.9/site-packages (from apache-beam->object-detection==0.1) (2.1.0)\n",
      "Requirement already satisfied: crcmod<2.0,>=1.7 in /home/eben-success/anaconda3/lib/python3.9/site-packages (from apache-beam->object-detection==0.1) (1.7)\n",
      "Requirement already satisfied: grpcio!=1.48.0,<2,>=1.33.1 in /home/eben-success/anaconda3/lib/python3.9/site-packages (from apache-beam->object-detection==0.1) (1.42.0)\n",
      "Requirement already satisfied: proto-plus<2,>=1.7.1 in /home/eben-success/anaconda3/lib/python3.9/site-packages (from apache-beam->object-detection==0.1) (1.22.1)\n",
      "Requirement already satisfied: dill<0.3.2,>=0.3.1.1 in /home/eben-success/anaconda3/lib/python3.9/site-packages (from apache-beam->object-detection==0.1) (0.3.1.1)\n",
      "Requirement already satisfied: httplib2<0.21.0,>=0.8 in /home/eben-success/anaconda3/lib/python3.9/site-packages (from apache-beam->object-detection==0.1) (0.20.4)\n",
      "Requirement already satisfied: protobuf<4,>=3.12.2 in /home/eben-success/anaconda3/lib/python3.9/site-packages (from apache-beam->object-detection==0.1) (3.19.6)\n",
      "Requirement already satisfied: pyarrow<8.0.0,>=0.15.1 in /home/eben-success/anaconda3/lib/python3.9/site-packages (from apache-beam->object-detection==0.1) (7.0.0)\n",
      "Requirement already satisfied: pydot<2,>=1.2.0 in /home/eben-success/anaconda3/lib/python3.9/site-packages (from apache-beam->object-detection==0.1) (1.4.2)\n",
      "Requirement already satisfied: zstandard<1,>=0.18.0 in /home/eben-success/anaconda3/lib/python3.9/site-packages (from apache-beam->object-detection==0.1) (0.18.0)\n",
      "Requirement already satisfied: cycler>=0.10.0 in /home/eben-success/anaconda3/lib/python3.9/site-packages (from lvis->object-detection==0.1) (0.11.0)\n",
      "Requirement already satisfied: kiwisolver>=1.1.0 in /home/eben-success/anaconda3/lib/python3.9/site-packages (from lvis->object-detection==0.1) (1.3.2)\n",
      "Requirement already satisfied: opencv-python>=4.1.0.25 in /home/eben-success/anaconda3/lib/python3.9/site-packages (from lvis->object-detection==0.1) (4.6.0.66)\n",
      "Requirement already satisfied: fonttools>=4.22.0 in /home/eben-success/anaconda3/lib/python3.9/site-packages (from matplotlib->object-detection==0.1) (4.25.0)\n",
      "Requirement already satisfied: packaging>=20.0 in /home/eben-success/anaconda3/lib/python3.9/site-packages (from matplotlib->object-detection==0.1) (21.3)\n",
      "Requirement already satisfied: tensorflow-io-gcs-filesystem==0.27.0 in /home/eben-success/anaconda3/lib/python3.9/site-packages (from tensorflow_io->object-detection==0.1) (0.27.0)\n",
      "Requirement already satisfied: google-auth-httplib2>=0.1.0 in /home/eben-success/anaconda3/lib/python3.9/site-packages (from google-api-python-client>=1.6.7->tf-models-official>=2.5.1->object-detection==0.1) (0.1.0)\n",
      "Requirement already satisfied: google-api-core!=2.0.*,!=2.1.*,!=2.2.*,!=2.3.0,<3.0.0dev,>=1.31.5 in /home/eben-success/anaconda3/lib/python3.9/site-packages (from google-api-python-client>=1.6.7->tf-models-official>=2.5.1->object-detection==0.1) (2.10.2)\n",
      "Requirement already satisfied: google-auth<3.0.0dev,>=1.19.0 in /home/eben-success/anaconda3/lib/python3.9/site-packages (from google-api-python-client>=1.6.7->tf-models-official>=2.5.1->object-detection==0.1) (1.33.0)\n",
      "Requirement already satisfied: uritemplate<5,>=3.0.1 in /home/eben-success/anaconda3/lib/python3.9/site-packages (from google-api-python-client>=1.6.7->tf-models-official>=2.5.1->object-detection==0.1) (4.1.1)\n",
      "Requirement already satisfied: docopt in /home/eben-success/anaconda3/lib/python3.9/site-packages (from hdfs<3.0.0,>=2.1.0->apache-beam->object-detection==0.1) (0.6.2)\n",
      "Requirement already satisfied: certifi in /home/eben-success/anaconda3/lib/python3.9/site-packages (from kaggle>=1.3.9->tf-models-official>=2.5.1->object-detection==0.1) (2021.10.8)\n",
      "Requirement already satisfied: python-slugify in /home/eben-success/anaconda3/lib/python3.9/site-packages (from kaggle>=1.3.9->tf-models-official>=2.5.1->object-detection==0.1) (5.0.2)\n",
      "Requirement already satisfied: urllib3 in /home/eben-success/anaconda3/lib/python3.9/site-packages (from kaggle>=1.3.9->tf-models-official>=2.5.1->object-detection==0.1) (1.26.9)\n",
      "Requirement already satisfied: tqdm in /home/eben-success/anaconda3/lib/python3.9/site-packages (from kaggle>=1.3.9->tf-models-official>=2.5.1->object-detection==0.1) (4.64.0)\n",
      "Requirement already satisfied: charset-normalizer~=2.0.0 in /home/eben-success/anaconda3/lib/python3.9/site-packages (from requests<3.0.0,>=2.24.0->apache-beam->object-detection==0.1) (2.0.4)\n",
      "Requirement already satisfied: idna<4,>=2.5 in /home/eben-success/anaconda3/lib/python3.9/site-packages (from requests<3.0.0,>=2.24.0->apache-beam->object-detection==0.1) (3.3)\n",
      "Requirement already satisfied: h5py>=2.9.0 in /home/eben-success/anaconda3/lib/python3.9/site-packages (from tensorflow~=2.10.0->tf-models-official>=2.5.1->object-detection==0.1) (3.6.0)\n",
      "Requirement already satisfied: opt-einsum>=2.3.2 in /home/eben-success/anaconda3/lib/python3.9/site-packages (from tensorflow~=2.10.0->tf-models-official>=2.5.1->object-detection==0.1) (3.3.0)\n",
      "Requirement already satisfied: wrapt>=1.11.0 in /home/eben-success/anaconda3/lib/python3.9/site-packages (from tensorflow~=2.10.0->tf-models-official>=2.5.1->object-detection==0.1) (1.12.1)\n",
      "Requirement already satisfied: flatbuffers>=2.0 in /home/eben-success/anaconda3/lib/python3.9/site-packages (from tensorflow~=2.10.0->tf-models-official>=2.5.1->object-detection==0.1) (22.9.24)\n",
      "Requirement already satisfied: astunparse>=1.6.0 in /home/eben-success/anaconda3/lib/python3.9/site-packages (from tensorflow~=2.10.0->tf-models-official>=2.5.1->object-detection==0.1) (1.6.3)\n",
      "Requirement already satisfied: libclang>=13.0.0 in /home/eben-success/anaconda3/lib/python3.9/site-packages (from tensorflow~=2.10.0->tf-models-official>=2.5.1->object-detection==0.1) (14.0.6)\n",
      "Requirement already satisfied: google-pasta>=0.1.1 in /home/eben-success/anaconda3/lib/python3.9/site-packages (from tensorflow~=2.10.0->tf-models-official>=2.5.1->object-detection==0.1) (0.2.0)\n",
      "Requirement already satisfied: setuptools in /home/eben-success/anaconda3/lib/python3.9/site-packages (from tensorflow~=2.10.0->tf-models-official>=2.5.1->object-detection==0.1) (61.2.0)\n",
      "Requirement already satisfied: keras-preprocessing>=1.1.1 in /home/eben-success/anaconda3/lib/python3.9/site-packages (from tensorflow~=2.10.0->tf-models-official>=2.5.1->object-detection==0.1) (1.1.2)\n",
      "Requirement already satisfied: gast<=0.4.0,>=0.2.1 in /home/eben-success/anaconda3/lib/python3.9/site-packages (from tensorflow~=2.10.0->tf-models-official>=2.5.1->object-detection==0.1) (0.4.0)\n",
      "Requirement already satisfied: tensorboard<2.11,>=2.10 in /home/eben-success/anaconda3/lib/python3.9/site-packages (from tensorflow~=2.10.0->tf-models-official>=2.5.1->object-detection==0.1) (2.10.1)\n",
      "Requirement already satisfied: termcolor>=1.1.0 in /home/eben-success/anaconda3/lib/python3.9/site-packages (from tensorflow~=2.10.0->tf-models-official>=2.5.1->object-detection==0.1) (2.0.1)\n",
      "Requirement already satisfied: tensorflow-estimator<2.11,>=2.10.0 in /home/eben-success/anaconda3/lib/python3.9/site-packages (from tensorflow~=2.10.0->tf-models-official>=2.5.1->object-detection==0.1) (2.10.0)\n",
      "Requirement already satisfied: dm-tree~=0.1.1 in /home/eben-success/anaconda3/lib/python3.9/site-packages (from tensorflow-model-optimization>=0.4.1->tf-models-official>=2.5.1->object-detection==0.1) (0.1.7)\n",
      "Requirement already satisfied: rsa>=3.1.4 in /home/eben-success/anaconda3/lib/python3.9/site-packages (from oauth2client->tf-models-official>=2.5.1->object-detection==0.1) (4.7.2)\n",
      "Requirement already satisfied: pyasn1>=0.1.7 in /home/eben-success/anaconda3/lib/python3.9/site-packages (from oauth2client->tf-models-official>=2.5.1->object-detection==0.1) (0.4.8)\n",
      "Requirement already satisfied: pyasn1-modules>=0.0.5 in /home/eben-success/anaconda3/lib/python3.9/site-packages (from oauth2client->tf-models-official>=2.5.1->object-detection==0.1) (0.2.8)\n",
      "Requirement already satisfied: scikit-learn>=0.21.3 in /home/eben-success/anaconda3/lib/python3.9/site-packages (from seqeval->tf-models-official>=2.5.1->object-detection==0.1) (1.0.2)\n",
      "Requirement already satisfied: typeguard>=2.7 in /home/eben-success/anaconda3/lib/python3.9/site-packages (from tensorflow-addons->tf-models-official>=2.5.1->object-detection==0.1) (2.13.3)\n",
      "Requirement already satisfied: tensorflow-metadata in /home/eben-success/anaconda3/lib/python3.9/site-packages (from tensorflow-datasets->tf-models-official>=2.5.1->object-detection==0.1) (1.10.0)\n",
      "Requirement already satisfied: etils[epath] in /home/eben-success/anaconda3/lib/python3.9/site-packages (from tensorflow-datasets->tf-models-official>=2.5.1->object-detection==0.1) (0.8.0)\n",
      "Requirement already satisfied: promise in /home/eben-success/anaconda3/lib/python3.9/site-packages (from tensorflow-datasets->tf-models-official>=2.5.1->object-detection==0.1) (2.3)\n",
      "Requirement already satisfied: toml in /home/eben-success/anaconda3/lib/python3.9/site-packages (from tensorflow-datasets->tf-models-official>=2.5.1->object-detection==0.1) (0.10.2)\n",
      "Requirement already satisfied: wheel<1.0,>=0.23.0 in /home/eben-success/anaconda3/lib/python3.9/site-packages (from astunparse>=1.6.0->tensorflow~=2.10.0->tf-models-official>=2.5.1->object-detection==0.1) (0.37.1)\n",
      "Requirement already satisfied: googleapis-common-protos<2.0dev,>=1.56.2 in /home/eben-success/anaconda3/lib/python3.9/site-packages (from google-api-core!=2.0.*,!=2.1.*,!=2.2.*,!=2.3.0,<3.0.0dev,>=1.31.5->google-api-python-client>=1.6.7->tf-models-official>=2.5.1->object-detection==0.1) (1.56.4)\n",
      "Requirement already satisfied: cachetools<5.0,>=2.0.0 in /home/eben-success/anaconda3/lib/python3.9/site-packages (from google-auth<3.0.0dev,>=1.19.0->google-api-python-client>=1.6.7->tf-models-official>=2.5.1->object-detection==0.1) (4.2.2)\n",
      "Requirement already satisfied: threadpoolctl>=2.0.0 in /home/eben-success/anaconda3/lib/python3.9/site-packages (from scikit-learn>=0.21.3->seqeval->tf-models-official>=2.5.1->object-detection==0.1) (2.2.0)\n",
      "Requirement already satisfied: joblib>=0.11 in /home/eben-success/anaconda3/lib/python3.9/site-packages (from scikit-learn>=0.21.3->seqeval->tf-models-official>=2.5.1->object-detection==0.1) (1.1.0)\n",
      "Requirement already satisfied: tensorboard-plugin-wit>=1.6.0 in /home/eben-success/anaconda3/lib/python3.9/site-packages (from tensorboard<2.11,>=2.10->tensorflow~=2.10.0->tf-models-official>=2.5.1->object-detection==0.1) (1.8.1)\n",
      "Requirement already satisfied: markdown>=2.6.8 in /home/eben-success/anaconda3/lib/python3.9/site-packages (from tensorboard<2.11,>=2.10->tensorflow~=2.10.0->tf-models-official>=2.5.1->object-detection==0.1) (3.3.4)\n",
      "Requirement already satisfied: google-auth-oauthlib<0.5,>=0.4.1 in /home/eben-success/anaconda3/lib/python3.9/site-packages (from tensorboard<2.11,>=2.10->tensorflow~=2.10.0->tf-models-official>=2.5.1->object-detection==0.1) (0.4.6)\n",
      "Requirement already satisfied: tensorboard-data-server<0.7.0,>=0.6.0 in /home/eben-success/anaconda3/lib/python3.9/site-packages (from tensorboard<2.11,>=2.10->tensorflow~=2.10.0->tf-models-official>=2.5.1->object-detection==0.1) (0.6.1)\n",
      "Requirement already satisfied: werkzeug>=1.0.1 in /home/eben-success/anaconda3/lib/python3.9/site-packages (from tensorboard<2.11,>=2.10->tensorflow~=2.10.0->tf-models-official>=2.5.1->object-detection==0.1) (2.0.3)\n",
      "Requirement already satisfied: zipp in /home/eben-success/anaconda3/lib/python3.9/site-packages (from etils[epath]->tensorflow-datasets->tf-models-official>=2.5.1->object-detection==0.1) (3.7.0)\n",
      "Requirement already satisfied: importlib_resources in /home/eben-success/anaconda3/lib/python3.9/site-packages (from etils[epath]->tensorflow-datasets->tf-models-official>=2.5.1->object-detection==0.1) (5.10.0)\n",
      "Requirement already satisfied: text-unidecode>=1.3 in /home/eben-success/anaconda3/lib/python3.9/site-packages (from python-slugify->kaggle>=1.3.9->tf-models-official>=2.5.1->object-detection==0.1) (1.3)\n",
      "Requirement already satisfied: requests-oauthlib>=0.7.0 in /home/eben-success/anaconda3/lib/python3.9/site-packages (from google-auth-oauthlib<0.5,>=0.4.1->tensorboard<2.11,>=2.10->tensorflow~=2.10.0->tf-models-official>=2.5.1->object-detection==0.1) (1.3.1)\n",
      "Requirement already satisfied: oauthlib>=3.0.0 in /home/eben-success/anaconda3/lib/python3.9/site-packages (from requests-oauthlib>=0.7.0->google-auth-oauthlib<0.5,>=0.4.1->tensorboard<2.11,>=2.10->tensorflow~=2.10.0->tf-models-official>=2.5.1->object-detection==0.1) (3.2.2)\n",
      "Building wheels for collected packages: object-detection\n",
      "  Building wheel for object-detection (setup.py) ... \u001b[?25ldone\n",
      "\u001b[?25h  Created wheel for object-detection: filename=object_detection-0.1-py3-none-any.whl size=1662769 sha256=ef3307976c061e55a49d6e852191bb3f52870405366fce2601cd3b2906901be0\n",
      "  Stored in directory: /tmp/pip-ephem-wheel-cache-l0wfbmam/wheels/d3/95/5d/b725cc6a2d6fb5bf6c0092675141df772d002e3bbc46ad14e3\n",
      "Successfully built object-detection\n",
      "Installing collected packages: object-detection\n",
      "  Attempting uninstall: object-detection\n",
      "    Found existing installation: object-detection 0.1\n",
      "    Uninstalling object-detection-0.1:\n",
      "      Successfully uninstalled object-detection-0.1\n",
      "Successfully installed object-detection-0.1\n"
     ]
    }
   ],
   "source": [
    "# Install Tensorflow Object Detection\n",
    "!apt-get install protobuf-compiler\n",
    "!cd Tensorflow/models/research && protoc object_detection/protos/*.proto --python_out=. && cp object_detection/packages/tf2/setup.py . && python -m pip install . "
   ]
  },
  {
   "cell_type": "code",
   "execution_count": 13,
   "metadata": {
    "colab": {
     "base_uri": "https://localhost:8080/",
     "height": 1000
    },
    "executionInfo": {
     "elapsed": 99877,
     "status": "ok",
     "timestamp": 1665905266150,
     "user": {
      "displayName": "Silas Penda",
      "userId": "17335070655241835621"
     },
     "user_tz": -60
    },
    "id": "72JZ2JxXJ95y",
    "outputId": "fe059a76-30c3-470a-e6b2-8c6cbdd50ec0"
   },
   "outputs": [
    {
     "name": "stdout",
     "output_type": "stream",
     "text": [
      "\u001b[31mERROR: Could not find a version that satisfies the requirement tensorflow==2.4.1 (from versions: 2.5.0, 2.5.1, 2.5.2, 2.5.3, 2.6.0rc0, 2.6.0rc1, 2.6.0rc2, 2.6.0, 2.6.1, 2.6.2, 2.6.3, 2.6.4, 2.6.5, 2.7.0rc0, 2.7.0rc1, 2.7.0, 2.7.1, 2.7.2, 2.7.3, 2.7.4, 2.8.0rc0, 2.8.0rc1, 2.8.0, 2.8.1, 2.8.2, 2.8.3, 2.9.0rc0, 2.9.0rc1, 2.9.0rc2, 2.9.0, 2.9.1, 2.9.2, 2.10.0rc0, 2.10.0rc1, 2.10.0rc2, 2.10.0rc3, 2.10.0)\u001b[0m\u001b[31m\n",
      "\u001b[0m\u001b[31mERROR: No matching distribution found for tensorflow==2.4.1\u001b[0m\u001b[31m\n",
      "\u001b[0m"
     ]
    }
   ],
   "source": [
    "# Install tensorflow-gpu\n",
    "!pip install tensorflow==2.4.1 tensorflow-gpu==2.4.1 --upgrade"
   ]
  },
  {
   "cell_type": "code",
   "execution_count": 14,
   "metadata": {
    "colab": {
     "base_uri": "https://localhost:8080/"
    },
    "executionInfo": {
     "elapsed": 636,
     "status": "ok",
     "timestamp": 1665905443236,
     "user": {
      "displayName": "Silas Penda",
      "userId": "17335070655241835621"
     },
     "user_tz": -60
    },
    "id": "7WwXgMt1s5r_",
    "outputId": "5d9db968-643e-4aeb-c08d-93e8347fbba6"
   },
   "outputs": [
    {
     "name": "stdout",
     "output_type": "stream",
     "text": [
      "Package                         Version\n",
      "------------------------------- --------------------\n",
      "absl-py                         1.3.0\n",
      "aiohttp                         3.8.1\n",
      "aiosignal                       1.2.0\n",
      "alabaster                       0.7.12\n",
      "anaconda-client                 1.9.0\n",
      "anaconda-navigator              2.3.2\n",
      "anaconda-project                0.10.2\n",
      "anyio                           3.5.0\n",
      "apache-beam                     2.42.0\n",
      "appdirs                         1.4.4\n",
      "argon2-cffi                     21.3.0\n",
      "argon2-cffi-bindings            21.2.0\n",
      "arrow                           1.2.2\n",
      "astroid                         2.6.6\n",
      "astropy                         5.0.4\n",
      "asttokens                       2.0.5\n",
      "astunparse                      1.6.3\n",
      "async-timeout                   4.0.1\n",
      "atomicwrites                    1.4.0\n",
      "attrs                           21.4.0\n",
      "Automat                         20.2.0\n",
      "autopep8                        1.6.0\n",
      "avro-python3                    1.10.2\n",
      "Babel                           2.9.1\n",
      "backcall                        0.2.0\n",
      "backports.functools-lru-cache   1.6.4\n",
      "backports.tempfile              1.0\n",
      "backports.weakref               1.0.post1\n",
      "bcrypt                          3.2.0\n",
      "beautifulsoup4                  4.11.1\n",
      "binaryornot                     0.4.4\n",
      "bitarray                        2.4.1\n",
      "bkcharts                        0.2\n",
      "black                           19.10b0\n",
      "bleach                          4.1.0\n",
      "bokeh                           2.4.2\n",
      "boto3                           1.21.32\n",
      "botocore                        1.24.32\n",
      "Bottleneck                      1.3.4\n",
      "brotlipy                        0.7.0\n",
      "cachetools                      4.2.2\n",
      "certifi                         2021.10.8\n",
      "cffi                            1.15.0\n",
      "chardet                         4.0.0\n",
      "charset-normalizer              2.0.4\n",
      "click                           8.0.4\n",
      "cloudpickle                     2.1.0\n",
      "clyent                          1.2.2\n",
      "colorama                        0.4.4\n",
      "colorcet                        2.0.6\n",
      "commonmark                      0.9.1\n",
      "conda                           22.9.0\n",
      "conda-build                     3.21.8\n",
      "conda-content-trust             0+unknown\n",
      "conda-pack                      0.6.0\n",
      "conda-package-handling          1.8.1\n",
      "conda-repo-cli                  1.0.4\n",
      "conda-token                     0.3.0\n",
      "conda-verify                    3.4.2\n",
      "constantly                      15.1.0\n",
      "contextlib2                     21.6.0\n",
      "cookiecutter                    1.7.3\n",
      "crcmod                          1.7\n",
      "cryptography                    3.4.8\n",
      "cssselect                       1.1.0\n",
      "cycler                          0.11.0\n",
      "Cython                          0.29.28\n",
      "cytoolz                         0.11.0\n",
      "daal4py                         2021.5.0\n",
      "dask                            2022.2.1\n",
      "datashader                      0.13.0\n",
      "datashape                       0.5.4\n",
      "debugpy                         1.5.1\n",
      "decorator                       5.1.1\n",
      "defusedxml                      0.7.1\n",
      "diff-match-patch                20200713\n",
      "dill                            0.3.1.1\n",
      "distributed                     2022.2.1\n",
      "dm-tree                         0.1.7\n",
      "docopt                          0.6.2\n",
      "docutils                        0.17.1\n",
      "efficientnet                    1.0.0\n",
      "entrypoints                     0.4\n",
      "et-xmlfile                      1.1.0\n",
      "etils                           0.8.0\n",
      "executing                       0.8.3\n",
      "fastavro                        1.6.1\n",
      "fastjsonschema                  2.15.1\n",
      "filelock                        3.6.0\n",
      "flake8                          3.9.2\n",
      "Flask                           1.1.2\n",
      "flatbuffers                     22.9.24\n",
      "fonttools                       4.25.0\n",
      "frozenlist                      1.2.0\n",
      "fsspec                          2022.2.0\n",
      "future                          0.18.2\n",
      "gast                            0.4.0\n",
      "gensim                          4.1.2\n",
      "gin-config                      0.5.0\n",
      "glob2                           0.7\n",
      "gmpy2                           2.1.2\n",
      "google-api-core                 2.10.2\n",
      "google-api-python-client        2.64.0\n",
      "google-auth                     1.33.0\n",
      "google-auth-httplib2            0.1.0\n",
      "google-auth-oauthlib            0.4.6\n",
      "google-cloud-core               1.7.1\n",
      "google-cloud-storage            1.31.0\n",
      "google-crc32c                   1.1.2\n",
      "google-pasta                    0.2.0\n",
      "google-resumable-media          1.3.1\n",
      "googleapis-common-protos        1.56.4\n",
      "greenlet                        1.1.1\n",
      "grpcio                          1.42.0\n",
      "h5py                            3.6.0\n",
      "hdfs                            2.7.0\n",
      "HeapDict                        1.0.1\n",
      "holoviews                       1.14.8\n",
      "httplib2                        0.20.4\n",
      "hvplot                          0.7.3\n",
      "hyperlink                       21.0.0\n",
      "idna                            3.3\n",
      "image-classifiers               1.0.0\n",
      "imagecodecs                     2021.8.26\n",
      "imageio                         2.9.0\n",
      "imagesize                       1.3.0\n",
      "immutabledict                   2.2.1\n",
      "importlib-metadata              4.11.3\n",
      "importlib-resources             5.10.0\n",
      "incremental                     21.3.0\n",
      "inflection                      0.5.1\n",
      "iniconfig                       1.1.1\n",
      "intake                          0.6.5\n",
      "intervaltree                    3.1.0\n",
      "ipykernel                       6.9.1\n",
      "ipython                         8.2.0\n",
      "ipython-genutils                0.2.0\n",
      "ipywidgets                      7.6.5\n",
      "isort                           5.9.3\n",
      "itemadapter                     0.3.0\n",
      "itemloaders                     1.0.4\n",
      "itsdangerous                    2.0.1\n",
      "jdcal                           1.4.1\n",
      "jedi                            0.18.1\n",
      "jeepney                         0.7.1\n",
      "Jinja2                          2.11.3\n",
      "jinja2-time                     0.2.0\n",
      "jmespath                        0.10.0\n",
      "joblib                          1.1.0\n",
      "json5                           0.9.6\n",
      "jsonschema                      4.4.0\n",
      "jupyter                         1.0.0\n",
      "jupyter-client                  6.1.12\n",
      "jupyter-console                 6.4.0\n",
      "jupyter-core                    4.9.2\n",
      "jupyter-server                  1.13.5\n",
      "jupyterlab                      3.3.2\n",
      "jupyterlab-pygments             0.1.2\n",
      "jupyterlab-server               2.10.3\n",
      "jupyterlab-widgets              1.0.0\n",
      "kaggle                          1.5.12\n",
      "keras                           2.10.0\n",
      "Keras-Applications              1.0.8\n",
      "Keras-Preprocessing             1.1.2\n",
      "keyring                         23.4.0\n",
      "kiwisolver                      1.3.2\n",
      "lazy-object-proxy               1.6.0\n",
      "libarchive-c                    2.9\n",
      "libclang                        14.0.6\n",
      "llvmlite                        0.38.0\n",
      "locket                          0.2.1\n",
      "lvis                            0.5.3\n",
      "lxml                            4.8.0\n",
      "Markdown                        3.3.4\n",
      "MarkupSafe                      2.0.1\n",
      "matplotlib                      3.5.1\n",
      "matplotlib-inline               0.1.2\n",
      "mccabe                          0.6.1\n",
      "mistune                         0.8.4\n",
      "mkl-fft                         1.3.1\n",
      "mkl-random                      1.2.2\n",
      "mkl-service                     2.4.0\n",
      "mock                            4.0.3\n",
      "mpmath                          1.2.1\n",
      "msgpack                         1.0.2\n",
      "multidict                       5.2.0\n",
      "multipledispatch                0.6.0\n",
      "munkres                         1.1.4\n",
      "mypy-extensions                 0.4.3\n",
      "navigator-updater               0.2.1\n",
      "nbclassic                       0.3.5\n",
      "nbclient                        0.5.13\n",
      "nbconvert                       6.4.4\n",
      "nbformat                        5.3.0\n",
      "nest-asyncio                    1.5.5\n",
      "networkx                        2.7.1\n",
      "nltk                            3.7\n",
      "nose                            1.3.7\n",
      "notebook                        6.4.8\n",
      "numba                           0.55.1\n",
      "numexpr                         2.8.1\n",
      "numpy                           1.21.5\n",
      "numpydoc                        1.2\n",
      "oauth2client                    4.1.3\n",
      "oauthlib                        3.2.2\n",
      "object-detection                0.1\n",
      "olefile                         0.46\n",
      "opencv-python                   4.6.0.66\n",
      "opencv-python-headless          4.5.2.52\n",
      "openpyxl                        3.0.9\n",
      "opt-einsum                      3.3.0\n",
      "orjson                          3.8.0\n",
      "packaging                       21.3\n",
      "pandas                          1.4.2\n",
      "pandocfilters                   1.5.0\n",
      "panel                           0.13.0\n",
      "param                           1.12.0\n",
      "parsel                          1.6.0\n",
      "parso                           0.8.3\n",
      "partd                           1.2.0\n",
      "pathspec                        0.7.0\n",
      "patsy                           0.5.2\n",
      "pep8                            1.7.1\n",
      "pexpect                         4.8.0\n",
      "pickleshare                     0.7.5\n",
      "Pillow                          9.0.1\n",
      "pip                             22.3\n",
      "pkginfo                         1.8.2\n",
      "plotly                          5.6.0\n",
      "pluggy                          1.0.0\n",
      "portalocker                     2.5.1\n",
      "poyo                            0.5.0\n",
      "prometheus-client               0.13.1\n",
      "promise                         2.3\n",
      "prompt-toolkit                  3.0.20\n",
      "Protego                         0.1.16\n",
      "proto-plus                      1.22.1\n",
      "protobuf                        3.19.6\n",
      "psutil                          5.8.0\n",
      "ptyprocess                      0.7.0\n",
      "pure-eval                       0.2.2\n",
      "py                              1.11.0\n",
      "py-cpuinfo                      8.0.0\n",
      "pyarrow                         7.0.0\n",
      "pyasn1                          0.4.8\n",
      "pyasn1-modules                  0.2.8\n",
      "pycocotools                     2.0.5\n",
      "pycodestyle                     2.7.0\n",
      "pycosat                         0.6.3\n",
      "pycparser                       2.21\n",
      "pyct                            0.4.6\n",
      "pycurl                          7.44.1\n",
      "PyDispatcher                    2.0.5\n",
      "pydocstyle                      6.1.1\n",
      "pydot                           1.4.2\n",
      "pyerfa                          2.0.0\n",
      "pyflakes                        2.3.1\n",
      "Pygments                        2.11.2\n",
      "PyHamcrest                      2.0.2\n",
      "PyJWT                           2.1.0\n",
      "pylint                          2.9.6\n",
      "pyls-spyder                     0.4.0\n",
      "pymongo                         3.12.3\n",
      "pyodbc                          4.0.32\n",
      "pyOpenSSL                       21.0.0\n",
      "pyparsing                       2.4.7\n",
      "pyrsistent                      0.18.0\n",
      "PySocks                         1.7.1\n",
      "pytest                          7.1.1\n",
      "python-dateutil                 2.8.2\n",
      "python-lsp-black                1.0.0\n",
      "python-lsp-jsonrpc              1.0.0\n",
      "python-lsp-server               1.2.4\n",
      "python-slugify                  5.0.2\n",
      "python-snappy                   0.6.0\n",
      "pytz                            2021.3\n",
      "pyviz-comms                     2.0.2\n",
      "PyWavelets                      1.3.0\n",
      "pyxdg                           0.27\n",
      "PyYAML                          5.4.1\n",
      "pyzmq                           22.3.0\n",
      "QDarkStyle                      3.0.2\n",
      "qstylizer                       0.1.10\n",
      "QtAwesome                       1.0.3\n",
      "qtconsole                       5.3.0\n",
      "QtPy                            2.0.1\n",
      "queuelib                        1.5.0\n",
      "readme-renderer                 37.2\n",
      "regex                           2022.3.15\n",
      "requests                        2.27.1\n",
      "requests-file                   1.5.1\n",
      "requests-oauthlib               1.3.1\n",
      "requests-toolbelt               0.10.0\n",
      "rfc3986                         2.0.0\n",
      "rich                            12.6.0\n",
      "rope                            0.22.0\n",
      "rsa                             4.7.2\n",
      "Rtree                           0.9.7\n",
      "ruamel-yaml-conda               0.15.100\n",
      "s3transfer                      0.5.0\n",
      "sacrebleu                       2.2.0\n",
      "scikit-image                    0.19.2\n",
      "scikit-learn                    1.0.2\n",
      "scikit-learn-intelex            2021.20220215.212715\n",
      "scipy                           1.7.3\n",
      "Scrapy                          2.6.1\n",
      "seaborn                         0.11.2\n",
      "SecretStorage                   3.3.1\n",
      "segmentation-models             1.0.1\n",
      "Send2Trash                      1.8.0\n",
      "sentencepiece                   0.1.97\n",
      "seqeval                         1.2.2\n",
      "service-identity                18.1.0\n",
      "setuptools                      61.2.0\n",
      "sip                             4.19.13\n",
      "six                             1.16.0\n",
      "smart-open                      5.1.0\n",
      "sniffio                         1.2.0\n",
      "snowballstemmer                 2.2.0\n",
      "sortedcollections               2.1.0\n",
      "sortedcontainers                2.4.0\n",
      "soupsieve                       2.3.1\n",
      "Sphinx                          4.4.0\n",
      "sphinxcontrib-applehelp         1.0.2\n",
      "sphinxcontrib-devhelp           1.0.2\n",
      "sphinxcontrib-htmlhelp          2.0.0\n",
      "sphinxcontrib-jsmath            1.0.1\n",
      "sphinxcontrib-qthelp            1.0.3\n",
      "sphinxcontrib-serializinghtml   1.1.5\n",
      "spyder                          5.1.5\n",
      "spyder-kernels                  2.1.3\n",
      "SQLAlchemy                      1.4.32\n",
      "stack-data                      0.2.0\n",
      "statsmodels                     0.13.2\n",
      "sympy                           1.10.1\n",
      "tables                          3.6.1\n",
      "tabulate                        0.8.9\n",
      "TBB                             0.2\n",
      "tblib                           1.7.0\n",
      "tenacity                        8.0.1\n",
      "tensorboard                     2.10.1\n",
      "tensorboard-data-server         0.6.1\n",
      "tensorboard-plugin-wit          1.8.1\n",
      "tensorflow                      2.10.0\n",
      "tensorflow-addons               0.18.0\n",
      "tensorflow-datasets             4.7.0\n",
      "tensorflow-estimator            2.10.0\n",
      "tensorflow-hub                  0.12.0\n",
      "tensorflow-io                   0.27.0\n",
      "tensorflow-io-gcs-filesystem    0.27.0\n",
      "tensorflow-metadata             1.10.0\n",
      "tensorflow-model-optimization   0.7.3\n",
      "tensorflow-object-detection-api 0.1.1\n",
      "tensorflow-text                 2.10.0\n",
      "termcolor                       2.0.1\n",
      "terminado                       0.13.1\n",
      "testpath                        0.5.0\n",
      "text-unidecode                  1.3\n",
      "textdistance                    4.2.1\n",
      "tf-models-official              2.10.0\n",
      "tf-slim                         1.1.0\n",
      "threadpoolctl                   2.2.0\n",
      "three-merge                     0.1.1\n",
      "tifffile                        2021.7.2\n",
      "tinycss                         0.4\n",
      "tldextract                      3.2.0\n",
      "toml                            0.10.2\n",
      "tomli                           1.2.2\n",
      "toolz                           0.11.2\n",
      "tornado                         6.1\n",
      "tqdm                            4.64.0\n",
      "traitlets                       5.1.1\n",
      "twine                           4.0.1\n",
      "Twisted                         22.2.0\n",
      "typed-ast                       1.4.3\n",
      "typeguard                       2.13.3\n",
      "typing_extensions               4.1.1\n",
      "ujson                           5.1.0\n",
      "Unidecode                       1.2.0\n",
      "uritemplate                     4.1.1\n",
      "urllib3                         1.26.9\n",
      "w3lib                           1.21.0\n",
      "watchdog                        2.1.6\n",
      "wcwidth                         0.2.5\n",
      "webencodings                    0.5.1\n",
      "websocket-client                0.58.0\n",
      "Werkzeug                        2.0.3\n",
      "wheel                           0.37.1\n",
      "widgetsnbextension              3.5.2\n",
      "wrapt                           1.12.1\n",
      "wurlitzer                       3.0.2\n",
      "xarray                          0.20.1\n",
      "xlrd                            2.0.1\n",
      "XlsxWriter                      3.0.3\n",
      "yapf                            0.31.0\n",
      "yarl                            1.6.3\n",
      "zict                            2.0.0\n",
      "zipp                            3.7.0\n",
      "zope.interface                  5.4.0\n",
      "zstandard                       0.18.0\n"
     ]
    }
   ],
   "source": [
    "!pip list"
   ]
  },
  {
   "cell_type": "code",
   "execution_count": 15,
   "metadata": {
    "executionInfo": {
     "elapsed": 6148,
     "status": "ok",
     "timestamp": 1665905538500,
     "user": {
      "displayName": "Silas Penda",
      "userId": "17335070655241835621"
     },
     "user_tz": -60
    },
    "id": "HsVdyr5Rsyrc"
   },
   "outputs": [
    {
     "name": "stdout",
     "output_type": "stream",
     "text": [
      "^C\n",
      "\u001b[31mERROR: Operation cancelled by user\u001b[0m\u001b[31m\n",
      "\u001b[0m\u001b[31mERROR: pip's dependency resolver does not currently take into account all the packages that are installed. This behaviour is the source of the following dependency conflicts.\n",
      "tensorflow 2.10.0 requires tensorflow-estimator<2.11,>=2.10.0, but you have tensorflow-estimator 2.4.0 which is incompatible.\u001b[0m\u001b[31m\n",
      "\u001b[0m"
     ]
    },
    {
     "name": "stderr",
     "output_type": "stream",
     "text": [
      "2022-10-17 21:02:19.747264: I tensorflow/core/platform/cpu_feature_guard.cc:193] This TensorFlow binary is optimized with oneAPI Deep Neural Network Library (oneDNN) to use the following CPU instructions in performance-critical operations:  AVX2 FMA\n",
      "To enable them in other operations, rebuild TensorFlow with the appropriate compiler flags.\n",
      "2022-10-17 21:02:20.511941: W tensorflow/stream_executor/platform/default/dso_loader.cc:64] Could not load dynamic library 'libcudart.so.11.0'; dlerror: libcudart.so.11.0: cannot open shared object file: No such file or directory\n",
      "2022-10-17 21:02:20.511996: I tensorflow/stream_executor/cuda/cudart_stub.cc:29] Ignore above cudart dlerror if you do not have a GPU set up on your machine.\n",
      "2022-10-17 21:02:20.625459: E tensorflow/stream_executor/cuda/cuda_blas.cc:2981] Unable to register cuBLAS factory: Attempting to register factory for plugin cuBLAS when one has already been registered\n",
      "2022-10-17 21:02:22.674904: W tensorflow/stream_executor/platform/default/dso_loader.cc:64] Could not load dynamic library 'libnvinfer.so.7'; dlerror: libnvinfer.so.7: cannot open shared object file: No such file or directory\n",
      "2022-10-17 21:02:22.675139: W tensorflow/stream_executor/platform/default/dso_loader.cc:64] Could not load dynamic library 'libnvinfer_plugin.so.7'; dlerror: libnvinfer_plugin.so.7: cannot open shared object file: No such file or directory\n",
      "2022-10-17 21:02:22.675162: W tensorflow/compiler/tf2tensorrt/utils/py_utils.cc:38] TF-TRT Warning: Cannot dlopen some TensorRT libraries. If you would like to use Nvidia GPU with TensorRT, please make sure the missing libraries mentioned above are installed properly.\n"
     ]
    },
    {
     "name": "stdout",
     "output_type": "stream",
     "text": [
      "Segmentation Models: using `tf.keras` framework.\n"
     ]
    }
   ],
   "source": [
    "!pip install -U -q segmentation-models\n",
    "!pip install -q tensorflow-estimator==2.4.0\n",
    "\n",
    "## Imports libs\n",
    "import os\n",
    "os.environ['CUDA_VISIBLE_DEVICES'] = '0'\n",
    "os.environ[\"SM_FRAMEWORK\"] = \"tf.keras\"\n",
    "\n",
    "from tensorflow import keras\n",
    "import segmentation_models as sm"
   ]
  },
  {
   "cell_type": "code",
   "execution_count": null,
   "metadata": {
    "colab": {
     "base_uri": "https://localhost:8080/"
    },
    "executionInfo": {
     "elapsed": 3614,
     "status": "ok",
     "timestamp": 1665905547877,
     "user": {
      "displayName": "Silas Penda",
      "userId": "17335070655241835621"
     },
     "user_tz": -60
    },
    "id": "VWktXMYxb-cM",
    "outputId": "aa4714de-b6d3-455b-b7c8-19b73e0cda7a"
   },
   "outputs": [
    {
     "ename": "",
     "evalue": "",
     "output_type": "error",
     "traceback": [
      "\u001b[1;31mRunning cells with 'Python 3.10.6 64-bit' requires ipykernel package.\n",
      "\u001b[1;31mRun the following command to install 'ipykernel' into the Python environment. \n",
      "\u001b[1;31mCommand: '/bin/python3 -m pip install ipykernel -U --user --force-reinstall'"
     ]
    }
   ],
   "source": [
    "# Verify Installation\n",
    "VERIFICATION_SCRIPT = os.path.join(paths['APIMODEL_PATH'], 'research', 'object_detection', 'builders', 'model_builder_tf2_test.py')\n",
    "!python {VERIFICATION_SCRIPT}"
   ]
  },
  {
   "cell_type": "code",
   "execution_count": null,
   "metadata": {
    "colab": {
     "base_uri": "https://localhost:8080/"
    },
    "executionInfo": {
     "elapsed": 538,
     "status": "ok",
     "timestamp": 1665850509166,
     "user": {
      "displayName": "Silas Penda",
      "userId": "15468085144899358004"
     },
     "user_tz": -60
    },
    "id": "k6Lj-ImKcikx",
    "outputId": "9a136ef4-fd9a-4aa6-ad2a-7d42c93bef3a"
   },
   "outputs": [
    {
     "ename": "",
     "evalue": "",
     "output_type": "error",
     "traceback": [
      "\u001b[1;31mRunning cells with 'Python 3.10.6 64-bit' requires ipykernel package.\n",
      "\u001b[1;31mRun the following command to install 'ipykernel' into the Python environment. \n",
      "\u001b[1;31mCommand: '/bin/python3 -m pip install ipykernel -U --user --force-reinstall'"
     ]
    }
   ],
   "source": [
    "# Check for tensorflow-gpu\n",
    "!pip list"
   ]
  },
  {
   "cell_type": "code",
   "execution_count": null,
   "metadata": {
    "colab": {
     "base_uri": "https://localhost:8080/"
    },
    "executionInfo": {
     "elapsed": 4236,
     "status": "ok",
     "timestamp": 1665850513400,
     "user": {
      "displayName": "Silas Penda",
      "userId": "15468085144899358004"
     },
     "user_tz": -60
    },
    "id": "IXivJ-HM_4c4",
    "outputId": "3903ea58-6bdd-4f7f-f1b2-aa758e03b94d"
   },
   "outputs": [
    {
     "ename": "",
     "evalue": "",
     "output_type": "error",
     "traceback": [
      "\u001b[1;31mRunning cells with 'Python 3.10.6 64-bit' requires ipykernel package.\n",
      "\u001b[1;31mRun the following command to install 'ipykernel' into the Python environment. \n",
      "\u001b[1;31mCommand: '/bin/python3 -m pip install ipykernel -U --user --force-reinstall'"
     ]
    }
   ],
   "source": [
    "!pip install tensorflow-object-detection-api\n",
    "import object_detection"
   ]
  },
  {
   "cell_type": "code",
   "execution_count": null,
   "metadata": {
    "colab": {
     "base_uri": "https://localhost:8080/"
    },
    "executionInfo": {
     "elapsed": 1675,
     "status": "ok",
     "timestamp": 1665850515066,
     "user": {
      "displayName": "Silas Penda",
      "userId": "15468085144899358004"
     },
     "user_tz": -60
    },
    "id": "zS8sudoddfRr",
    "outputId": "7f2e454a-9f27-4d5c-d50d-0fc4cb1badfb"
   },
   "outputs": [
    {
     "ename": "",
     "evalue": "",
     "output_type": "error",
     "traceback": [
      "\u001b[1;31mRunning cells with 'Python 3.10.6 64-bit' requires ipykernel package.\n",
      "\u001b[1;31mRun the following command to install 'ipykernel' into the Python environment. \n",
      "\u001b[1;31mCommand: '/bin/python3 -m pip install ipykernel -U --user --force-reinstall'"
     ]
    }
   ],
   "source": [
    "# Download pretrained model\n",
    "!wget {PRETRAINED_MODEL_URL}\n",
    "!mv {PRETRAINED_MODEL_NAME+'.tar.gz'} {paths['PRETRAINED_MODEL_PATH']}\n",
    "!cd {paths['PRETRAINED_MODEL_PATH']} && tar -zxvf {PRETRAINED_MODEL_NAME+'.tar.gz'}"
   ]
  },
  {
   "cell_type": "markdown",
   "metadata": {
    "id": "QkzXgulhjkAd"
   },
   "source": [
    "# **Create Label Map**"
   ]
  },
  {
   "cell_type": "code",
   "execution_count": null,
   "metadata": {
    "id": "F06TzbS6jdU7"
   },
   "outputs": [
    {
     "ename": "",
     "evalue": "",
     "output_type": "error",
     "traceback": [
      "\u001b[1;31mRunning cells with 'Python 3.10.6 64-bit' requires ipykernel package.\n",
      "\u001b[1;31mRun the following command to install 'ipykernel' into the Python environment. \n",
      "\u001b[1;31mCommand: '/bin/python3 -m pip install ipykernel -U --user --force-reinstall'"
     ]
    }
   ],
   "source": [
    "labels = [{'name':'Sign', 'id':1}, {'name':'IssueBank', 'id':2}, {'name':'ReceiverName', 'id':3},\n",
    "          {'name':'AcNo', 'id':4}, {'name':'Amt', 'id':5}, {'name':'ChqNo', 'id':6}, {'name':'DateIss', 'id':7}]\n",
    "\n",
    "with open(files['LABELMAP'], 'w') as f:\n",
    "    for label in labels:\n",
    "        f.write('item { \\n')\n",
    "        f.write('\\tname:\\'{}\\'\\n'.format(label['name']))\n",
    "        f.write('\\tid:{}\\n'.format(label['id']))\n",
    "        f.write('}\\n')"
   ]
  },
  {
   "cell_type": "markdown",
   "metadata": {
    "id": "93b8QH1mkB1w"
   },
   "source": [
    "# **Create TF Records**"
   ]
  },
  {
   "cell_type": "code",
   "execution_count": null,
   "metadata": {
    "id": "-LBsW1H1gbSP"
   },
   "outputs": [
    {
     "ename": "",
     "evalue": "",
     "output_type": "error",
     "traceback": [
      "\u001b[1;31mRunning cells with 'Python 3.10.6 64-bit' requires ipykernel package.\n",
      "\u001b[1;31mRun the following command to install 'ipykernel' into the Python environment. \n",
      "\u001b[1;31mCommand: '/bin/python3 -m pip install ipykernel -U --user --force-reinstall'"
     ]
    }
   ],
   "source": [
    "# Run if working in Colab\n",
    "ARCHIVE_FILES = os.path.join(paths['IMAGE_PATH'], 'archive.tar.gz')\n",
    "if os.path.exists(ARCHIVE_FILES):\n",
    "  !tar -zxvf {ARCHIVE_FILES}"
   ]
  },
  {
   "cell_type": "code",
   "execution_count": null,
   "metadata": {
    "id": "sJ_Cf1lkkQZn"
   },
   "outputs": [
    {
     "ename": "",
     "evalue": "",
     "output_type": "error",
     "traceback": [
      "\u001b[1;31mRunning cells with 'Python 3.10.6 64-bit' requires ipykernel package.\n",
      "\u001b[1;31mRun the following command to install 'ipykernel' into the Python environment. \n",
      "\u001b[1;31mCommand: '/bin/python3 -m pip install ipykernel -U --user --force-reinstall'"
     ]
    }
   ],
   "source": [
    "# Clone GenerateTFRecord script into Tensorflow/scripts folder\n",
    "if not os.path.exists(files['TF_RECORD_SCRIPT']):\n",
    "    !git clone https://github.com/nicknochnack/GenerateTFRecord {paths['SCRIPTS_PATH']}"
   ]
  },
  {
   "cell_type": "code",
   "execution_count": null,
   "metadata": {
    "colab": {
     "base_uri": "https://localhost:8080/"
    },
    "executionInfo": {
     "elapsed": 18137,
     "status": "ok",
     "timestamp": 1665850533197,
     "user": {
      "displayName": "Silas Penda",
      "userId": "15468085144899358004"
     },
     "user_tz": -60
    },
    "id": "8SLmQCnPkw0e",
    "outputId": "2f0485f9-8a8c-4b95-d40b-81aae85564ec"
   },
   "outputs": [
    {
     "ename": "",
     "evalue": "",
     "output_type": "error",
     "traceback": [
      "\u001b[1;31mRunning cells with 'Python 3.10.6 64-bit' requires ipykernel package.\n",
      "\u001b[1;31mRun the following command to install 'ipykernel' into the Python environment. \n",
      "\u001b[1;31mCommand: '/bin/python3 -m pip install ipykernel -U --user --force-reinstall'"
     ]
    }
   ],
   "source": [
    "!python {files['TF_RECORD_SCRIPT']} -x {os.path.join(paths['IMAGE_PATH'], 'train')} -l {files['LABELMAP']} -o {os.path.join(paths['ANNOTATION_PATH'], 'train.record')} \n",
    "!python {files['TF_RECORD_SCRIPT']} -x {os.path.join(paths['IMAGE_PATH'], 'test')} -l {files['LABELMAP']} -o {os.path.join(paths['ANNOTATION_PATH'], 'test.record')} "
   ]
  },
  {
   "cell_type": "markdown",
   "metadata": {
    "id": "1pK3LGVZKuEy"
   },
   "source": [
    "# **Copy Model Config To Training Folder**"
   ]
  },
  {
   "cell_type": "code",
   "execution_count": null,
   "metadata": {
    "id": "jzBff-QqmyQ8"
   },
   "outputs": [
    {
     "ename": "",
     "evalue": "",
     "output_type": "error",
     "traceback": [
      "\u001b[1;31mRunning cells with 'Python 3.10.6 64-bit' requires ipykernel package.\n",
      "\u001b[1;31mRun the following command to install 'ipykernel' into the Python environment. \n",
      "\u001b[1;31mCommand: '/bin/python3 -m pip install ipykernel -U --user --force-reinstall'"
     ]
    }
   ],
   "source": [
    "!cp {os.path.join(paths['PRETRAINED_MODEL_PATH'], PRETRAINED_MODEL_NAME, 'pipeline.config')} {os.path.join(paths['CHECKPOINT_PATH'])}"
   ]
  },
  {
   "cell_type": "markdown",
   "metadata": {
    "id": "AGkZKU5uM_e4"
   },
   "source": [
    "# Update Config For Transfer Learning"
   ]
  },
  {
   "cell_type": "code",
   "execution_count": null,
   "metadata": {
    "id": "wk2gFUaqK8f1"
   },
   "outputs": [
    {
     "ename": "",
     "evalue": "",
     "output_type": "error",
     "traceback": [
      "\u001b[1;31mRunning cells with 'Python 3.10.6 64-bit' requires ipykernel package.\n",
      "\u001b[1;31mRun the following command to install 'ipykernel' into the Python environment. \n",
      "\u001b[1;31mCommand: '/bin/python3 -m pip install ipykernel -U --user --force-reinstall'"
     ]
    }
   ],
   "source": [
    "import tensorflow.compat.v1 as tf\n",
    "# import tensorflow as tf\n",
    "from object_detection.utils import config_util\n",
    "from object_detection.protos import pipeline_pb2\n",
    "from google.protobuf import text_format"
   ]
  },
  {
   "cell_type": "code",
   "execution_count": null,
   "metadata": {
    "colab": {
     "base_uri": "https://localhost:8080/"
    },
    "executionInfo": {
     "elapsed": 8,
     "status": "ok",
     "timestamp": 1665846780826,
     "user": {
      "displayName": "Silas Penda",
      "userId": "15468085144899358004"
     },
     "user_tz": -60
    },
    "id": "UO9_LRwlNESg",
    "outputId": "10a7de0d-10ed-441d-f11b-1bc993fc30c2"
   },
   "outputs": [
    {
     "ename": "",
     "evalue": "",
     "output_type": "error",
     "traceback": [
      "\u001b[1;31mRunning cells with 'Python 3.10.6 64-bit' requires ipykernel package.\n",
      "\u001b[1;31mRun the following command to install 'ipykernel' into the Python environment. \n",
      "\u001b[1;31mCommand: '/bin/python3 -m pip install ipykernel -U --user --force-reinstall'"
     ]
    }
   ],
   "source": [
    "config = config_util.get_configs_from_pipeline_file(files['PIPELINE_CONFIG'])\n",
    "config"
   ]
  },
  {
   "cell_type": "code",
   "execution_count": null,
   "metadata": {
    "id": "GrwUbCdgNGR1"
   },
   "outputs": [
    {
     "ename": "",
     "evalue": "",
     "output_type": "error",
     "traceback": [
      "\u001b[1;31mRunning cells with 'Python 3.10.6 64-bit' requires ipykernel package.\n",
      "\u001b[1;31mRun the following command to install 'ipykernel' into the Python environment. \n",
      "\u001b[1;31mCommand: '/bin/python3 -m pip install ipykernel -U --user --force-reinstall'"
     ]
    }
   ],
   "source": [
    "pipeline_config = pipeline_pb2.TrainEvalPipelineConfig()\n",
    "with tf.io.gfile.GFile(files['PIPELINE_CONFIG'], \"r\") as f:                                                                                                                                                                                                                     \n",
    "    proto_str = f.read()                                                                                                                                                                                                                                          \n",
    "    text_format.Merge(proto_str, pipeline_config)  "
   ]
  },
  {
   "cell_type": "code",
   "execution_count": null,
   "metadata": {
    "id": "AHlIJB5RNP6F"
   },
   "outputs": [
    {
     "ename": "",
     "evalue": "",
     "output_type": "error",
     "traceback": [
      "\u001b[1;31mRunning cells with 'Python 3.10.6 64-bit' requires ipykernel package.\n",
      "\u001b[1;31mRun the following command to install 'ipykernel' into the Python environment. \n",
      "\u001b[1;31mCommand: '/bin/python3 -m pip install ipykernel -U --user --force-reinstall'"
     ]
    }
   ],
   "source": [
    "pipeline_config.model.ssd.num_classes = len(labels)\n",
    "pipeline_config.train_config.batch_size = 4\n",
    "pipeline_config.train_config.fine_tune_checkpoint = os.path.join(paths['PRETRAINED_MODEL_PATH'], PRETRAINED_MODEL_NAME, 'checkpoint', 'ckpt-0')\n",
    "pipeline_config.train_config.fine_tune_checkpoint_type = \"detection\"\n",
    "pipeline_config.train_input_reader.label_map_path= files['LABELMAP']\n",
    "pipeline_config.train_input_reader.tf_record_input_reader.input_path[:] = [os.path.join(paths['ANNOTATION_PATH'], 'train.record')]\n",
    "pipeline_config.eval_input_reader[0].label_map_path = files['LABELMAP']\n",
    "pipeline_config.eval_input_reader[0].tf_record_input_reader.input_path[:] = [os.path.join(paths['ANNOTATION_PATH'], 'test.record')]"
   ]
  },
  {
   "cell_type": "code",
   "execution_count": null,
   "metadata": {
    "id": "jcOoQy_2NSFk"
   },
   "outputs": [
    {
     "ename": "",
     "evalue": "",
     "output_type": "error",
     "traceback": [
      "\u001b[1;31mRunning cells with 'Python 3.10.6 64-bit' requires ipykernel package.\n",
      "\u001b[1;31mRun the following command to install 'ipykernel' into the Python environment. \n",
      "\u001b[1;31mCommand: '/bin/python3 -m pip install ipykernel -U --user --force-reinstall'"
     ]
    }
   ],
   "source": [
    "config_text = text_format.MessageToString(pipeline_config)                                                                                                                                                                                                        \n",
    "with tf.io.gfile.GFile(files['PIPELINE_CONFIG'], \"wb\") as f:                                                                                                                                                                                                                     \n",
    "    f.write(config_text)   "
   ]
  },
  {
   "cell_type": "markdown",
   "metadata": {
    "id": "rVuspEyXNeGK"
   },
   "source": [
    "# **Train Model**"
   ]
  },
  {
   "cell_type": "code",
   "execution_count": null,
   "metadata": {
    "id": "msgbjsOgNc8D"
   },
   "outputs": [
    {
     "ename": "",
     "evalue": "",
     "output_type": "error",
     "traceback": [
      "\u001b[1;31mRunning cells with 'Python 3.10.6 64-bit' requires ipykernel package.\n",
      "\u001b[1;31mRun the following command to install 'ipykernel' into the Python environment. \n",
      "\u001b[1;31mCommand: '/bin/python3 -m pip install ipykernel -U --user --force-reinstall'"
     ]
    }
   ],
   "source": [
    "TRAINING_SCRIPT = os.path.join(paths['APIMODEL_PATH'], 'research', 'object_detection', 'model_main_tf2.py')"
   ]
  },
  {
   "cell_type": "code",
   "execution_count": null,
   "metadata": {
    "id": "AAWjomKlNkvz"
   },
   "outputs": [
    {
     "ename": "",
     "evalue": "",
     "output_type": "error",
     "traceback": [
      "\u001b[1;31mRunning cells with 'Python 3.10.6 64-bit' requires ipykernel package.\n",
      "\u001b[1;31mRun the following command to install 'ipykernel' into the Python environment. \n",
      "\u001b[1;31mCommand: '/bin/python3 -m pip install ipykernel -U --user --force-reinstall'"
     ]
    }
   ],
   "source": [
    "command = \"python {} --model_dir={} --pipeline_config_path={} --num_train_steps=50000\".format(TRAINING_SCRIPT, paths['CHECKPOINT_PATH'],files['PIPELINE_CONFIG'])"
   ]
  },
  {
   "cell_type": "code",
   "execution_count": null,
   "metadata": {
    "colab": {
     "base_uri": "https://localhost:8080/"
    },
    "executionInfo": {
     "elapsed": 443,
     "status": "ok",
     "timestamp": 1665850538038,
     "user": {
      "displayName": "Silas Penda",
      "userId": "15468085144899358004"
     },
     "user_tz": -60
    },
    "id": "OnH-KoP1OZQJ",
    "outputId": "493c922d-9315-4eaa-8f28-0e7bb18c503b"
   },
   "outputs": [
    {
     "ename": "",
     "evalue": "",
     "output_type": "error",
     "traceback": [
      "\u001b[1;31mRunning cells with 'Python 3.10.6 64-bit' requires ipykernel package.\n",
      "\u001b[1;31mRun the following command to install 'ipykernel' into the Python environment. \n",
      "\u001b[1;31mCommand: '/bin/python3 -m pip install ipykernel -U --user --force-reinstall'"
     ]
    }
   ],
   "source": [
    "print(command)"
   ]
  },
  {
   "cell_type": "code",
   "execution_count": null,
   "metadata": {
    "colab": {
     "base_uri": "https://localhost:8080/"
    },
    "executionInfo": {
     "elapsed": 44393,
     "status": "ok",
     "timestamp": 1665850589543,
     "user": {
      "displayName": "Silas Penda",
      "userId": "15468085144899358004"
     },
     "user_tz": -60
    },
    "id": "ECY5RPFfObSb",
    "outputId": "11d3b34a-96c0-4794-8bb9-8f7f691d3d9f"
   },
   "outputs": [
    {
     "ename": "",
     "evalue": "",
     "output_type": "error",
     "traceback": [
      "\u001b[1;31mRunning cells with 'Python 3.10.6 64-bit' requires ipykernel package.\n",
      "\u001b[1;31mRun the following command to install 'ipykernel' into the Python environment. \n",
      "\u001b[1;31mCommand: '/bin/python3 -m pip install ipykernel -U --user --force-reinstall'"
     ]
    }
   ],
   "source": [
    "!{command}"
   ]
  },
  {
   "cell_type": "markdown",
   "metadata": {
    "id": "UqelqWwbOh3t"
   },
   "source": [
    "# Evaluate Model"
   ]
  },
  {
   "cell_type": "code",
   "execution_count": null,
   "metadata": {
    "id": "jFpCmjsDOeV_"
   },
   "outputs": [
    {
     "ename": "",
     "evalue": "",
     "output_type": "error",
     "traceback": [
      "\u001b[1;31mRunning cells with 'Python 3.10.6 64-bit' requires ipykernel package.\n",
      "\u001b[1;31mRun the following command to install 'ipykernel' into the Python environment. \n",
      "\u001b[1;31mCommand: '/bin/python3 -m pip install ipykernel -U --user --force-reinstall'"
     ]
    }
   ],
   "source": [
    "command = \"python {} --model_dir={} --pipeline_config_path={} --checkpoint_dir={}\".format(TRAINING_SCRIPT, paths['CHECKPOINT_PATH'],files['PIPELINE_CONFIG'], paths['CHECKPOINT_PATH'])"
   ]
  },
  {
   "cell_type": "code",
   "execution_count": null,
   "metadata": {
    "id": "8GRdtgpDOpxj"
   },
   "outputs": [
    {
     "ename": "",
     "evalue": "",
     "output_type": "error",
     "traceback": [
      "\u001b[1;31mRunning cells with 'Python 3.10.6 64-bit' requires ipykernel package.\n",
      "\u001b[1;31mRun the following command to install 'ipykernel' into the Python environment. \n",
      "\u001b[1;31mCommand: '/bin/python3 -m pip install ipykernel -U --user --force-reinstall'"
     ]
    }
   ],
   "source": [
    "print(command)"
   ]
  },
  {
   "cell_type": "code",
   "execution_count": null,
   "metadata": {
    "id": "Sb9g3uEiOsdL"
   },
   "outputs": [
    {
     "ename": "",
     "evalue": "",
     "output_type": "error",
     "traceback": [
      "\u001b[1;31mRunning cells with 'Python 3.10.6 64-bit' requires ipykernel package.\n",
      "\u001b[1;31mRun the following command to install 'ipykernel' into the Python environment. \n",
      "\u001b[1;31mCommand: '/bin/python3 -m pip install ipykernel -U --user --force-reinstall'"
     ]
    }
   ],
   "source": [
    "!{command}"
   ]
  }
 ],
 "metadata": {
  "accelerator": "GPU",
  "colab": {
   "collapsed_sections": [],
   "provenance": []
  },
  "kernelspec": {
   "display_name": "Python 3.9.12 ('base')",
   "language": "python",
   "name": "python3"
  },
  "language_info": {
   "codemirror_mode": {
    "name": "ipython",
    "version": 3
   },
   "file_extension": ".py",
   "mimetype": "text/x-python",
   "name": "python",
   "nbconvert_exporter": "python",
   "pygments_lexer": "ipython3",
   "version": "3.9.12"
  },
  "vscode": {
   "interpreter": {
    "hash": "044bd8377869109dcb093f44f850f98d78c1f8adfffaaaa1f0128c3238e36a11"
   }
  }
 },
 "nbformat": 4,
 "nbformat_minor": 1
}
